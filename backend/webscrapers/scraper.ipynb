{
 "cells": [
  {
   "cell_type": "code",
   "execution_count": 2,
   "metadata": {},
   "outputs": [],
   "source": [
    "import pandas as pd\n",
    "import numpy as np\n",
    "import json\n",
    "from urllib import request"
   ]
  },
  {
   "cell_type": "markdown",
   "metadata": {},
   "source": [
    "Class Roster"
   ]
  },
  {
   "cell_type": "code",
   "execution_count": 7,
   "metadata": {},
   "outputs": [],
   "source": [
    "subjects_url = 'https://classes.cornell.edu/api/2.0/config/subjects.json?roster=SP22'\n",
    "subjects_json = json.loads(request.urlopen(subjects_url).read())\n",
    "subject_list = [x['value'] for x in subjects_json['data']['subjects']]"
   ]
  },
  {
   "cell_type": "code",
   "execution_count": 114,
   "metadata": {},
   "outputs": [],
   "source": [
    "courses = pd.DataFrame(columns = [\"Dept\", \"Number\", \"Course_Name\", \"Professor\",\"Start_Time\", \"End_Time\", \"Location\",\"Description\",\"Pre/coreqs\",\"Offered\"])\n",
    "def getFineData(row): return row['enrollGroups'][0]['classSections'][0]['meetings']\n",
    "def getProf(row): \n",
    "  x = lambda r: r[0]['instructors'][0]['firstName'].strip() + ' '+r[0]['instructors'][0]['lastName'].strip()\n",
    "  try: \n",
    "    return x(row)\n",
    "  except: return \"\"\n",
    "def getData(fineData, obj): \n",
    "  try:\n",
    "    x = lambda r: r[0][obj]\n",
    "    return x(fineData)\n",
    "  except: return \"\"\n",
    "\n",
    "for subject in subject_list: \n",
    "    url = f\"https://classes.cornell.edu/api/2.0/search/classes.json?roster=SP22&subject={subject}\"\n",
    "    data_json = json.loads(request.urlopen(url).read())\n",
    "    df = pd.DataFrame(data_json['data']['classes'])\n",
    "\n",
    "    df['prof'] = df.apply(lambda row: getProf( getFineData(row)), axis=1)\n",
    "    df['startTime'] = df.apply(lambda row: getData(getFineData(row), 'timeStart'), axis=1)  \n",
    "    df['endTime'] = df.apply(lambda row: getData(getFineData(row), 'timeEnd'), axis=1)  \n",
    "    df['location'] = df.apply(lambda row: getData(getFineData(row), 'facilityDescr'), axis=1)  \n",
    "\n",
    "    df = df[[\"subject\", \"catalogNbr\", \"titleShort\", \"prof\", \"startTime\", \"endTime\", \"location\", \"description\", \"catalogPrereqCoreq\", \"catalogWhenOffered\"]]\n",
    "    df = df.rename(columns={\"subject\": \"Dept\", 'catalogNbr':\"Number\", \"titleShort\":\"Course_Name\", \"prof\":\"Professor\", \"startTime\":\"Start_Time\", \"endTime\":\"End_Time\", \"location\": \"Location\", \"description\":\"Description\", \"catalogPrereqCoreq\":\"Pre/coreqs\", \"catalogWhenOffered\":\"Offered\"})\n",
    "\n",
    "    courses = courses.merge(df, how='outer') \n",
    "\n",
    "courses.to_csv('cleaned_medians.csv')"
   ]
  },
  {
   "cell_type": "markdown",
   "metadata": {},
   "source": [
    "CUreviews"
   ]
  },
  {
   "cell_type": "code",
   "execution_count": null,
   "metadata": {},
   "outputs": [],
   "source": [
    "data = df.to_numpy()\n",
    "\n",
    "url = 'https://www.cureviews.org/v2/getCourseByInfo/'\n",
    "\n",
    "difficulty = []\n",
    "ratings = []\n",
    "workloads = []\n",
    "\n",
    "for val in data:\n",
    "\n",
    "    try:\n",
    "        sub = val[1].lower()\n",
    "        num = int(val[2])\n",
    "        myobj = {'number': num, 'subject': sub}\n",
    "\n",
    "        res = requests.post(url, json = myobj).json()['result']\n",
    "\n",
    "        diff = res['classDifficulty']\n",
    "        rating = res['classRating']\n",
    "        workload = res['classWorkload']\n",
    "        \n",
    "    except:\n",
    "        diff = None\n",
    "        rating = None\n",
    "        workload = None\n",
    "    \n",
    "    difficulty += [diff]\n",
    "    ratings += [rating]\n",
    "    workloads += [workload]\n",
    "        "
   ]
  }
 ],
 "metadata": {
  "kernelspec": {
   "display_name": "Python 3.9.13 ('env': venv)",
   "language": "python",
   "name": "python3"
  },
  "language_info": {
   "codemirror_mode": {
    "name": "ipython",
    "version": 3
   },
   "file_extension": ".py",
   "mimetype": "text/x-python",
   "name": "python",
   "nbconvert_exporter": "python",
   "pygments_lexer": "ipython3",
   "version": "3.9.13"
  },
  "orig_nbformat": 4,
  "vscode": {
   "interpreter": {
    "hash": "e2d44e5b173de06ea48055461fbb3130df4a0cdec4b6d57544ee834ff1f5ce7a"
   }
  }
 },
 "nbformat": 4,
 "nbformat_minor": 2
}

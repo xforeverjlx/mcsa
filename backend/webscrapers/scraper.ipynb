{
 "cells": [
  {
   "cell_type": "code",
   "execution_count": 4,
   "metadata": {},
   "outputs": [],
   "source": [
    "import pandas as pd\n",
    "import numpy as np\n",
    "import json\n",
    "import urllib\n",
    "import requests"
   ]
  },
  {
   "cell_type": "markdown",
   "metadata": {},
   "source": [
    "Class Roster"
   ]
  },
  {
   "cell_type": "code",
   "execution_count": null,
   "metadata": {},
   "outputs": [],
   "source": [
    "def getFineData(row): return row['enrollGroups'][0]['classSections'][0]['meetings']\n",
    "def getProf(row): \n",
    "  x = lambda r: r[0]['instructors'][0]['firstName'].strip() + ' '+r[0]['instructors'][0]['lastName'].strip()\n",
    "  try: \n",
    "    return x(row)\n",
    "  except: return \"\"\n",
    "def getData(fineData, obj): \n",
    "  try:\n",
    "    x = lambda r: r[0][obj]\n",
    "    return x(fineData)\n",
    "  except: return \"\""
   ]
  },
  {
   "cell_type": "code",
   "execution_count": null,
   "metadata": {},
   "outputs": [],
   "source": [
    "def scrape_class_roster(sem, csv_name):\n",
    "  subjects_url = 'https://classes.cornell.edu/api/2.0/config/subjects.json?roster='+sem\n",
    "  subjects_json = json.loads(urllib.request.urlopen(subjects_url).read())\n",
    "  subject_list = [x['value'] for x in subjects_json['data']['subjects']]\n",
    "  courses = pd.DataFrame(columns = [\"Dept\", \"Number\", \"Course_Name\", \"Professor\",\"Start_Time\", \"End_Time\", \"Location\",\"Description\",\"Pre/coreqs\",\"Offered\"])\n",
    "\n",
    "  for subject in subject_list: \n",
    "    url = \"https://classes.cornell.edu/api/2.0/search/classes.json?roster=\"+sem+f\"&subject={subject}\"\n",
    "    data_json = json.loads(urllib.request.urlopen(url).read())\n",
    "    df = pd.DataFrame(data_json['data']['classes'])\n",
    "\n",
    "    df['prof'] = df.apply(lambda row: getProf( getFineData(row)), axis=1)\n",
    "    df['startTime'] = df.apply(lambda row: getData(getFineData(row), 'timeStart'), axis=1)  \n",
    "    df['endTime'] = df.apply(lambda row: getData(getFineData(row), 'timeEnd'), axis=1)  \n",
    "    df['location'] = df.apply(lambda row: getData(getFineData(row), 'facilityDescr'), axis=1)  \n",
    "\n",
    "    df = df[[\"subject\", \"catalogNbr\", \"titleShort\", \"prof\", \"startTime\", \"endTime\", \"location\", \"description\", \"catalogPrereqCoreq\", \"catalogWhenOffered\"]]\n",
    "    df = df.rename(columns={\"subject\": \"Dept\", 'catalogNbr':\"Number\", \"titleShort\":\"Course_Name\", \"prof\":\"Professor\", \"startTime\":\"Start_Time\", \"endTime\":\"End_Time\", \"location\": \"Location\", \"description\":\"Description\", \"catalogPrereqCoreq\":\"Pre/coreqs\", \"catalogWhenOffered\":\"Offered\"})\n",
    "\n",
    "    courses = courses.merge(df, how='outer') \n",
    "\n",
    "  courses.to_csv('data/class_roster_'+sem+'.csv')\n"
   ]
  },
  {
   "cell_type": "code",
   "execution_count": 114,
   "metadata": {},
   "outputs": [],
   "source": [
    "sem = \"SP22\"\n",
    "scrape_class_roster(sem)"
   ]
  },
  {
   "cell_type": "code",
   "execution_count": 170,
   "metadata": {},
   "outputs": [],
   "source": [
    "sem = \"FA22\"\n",
    "scrape_class_roster(sem)"
   ]
  },
  {
   "cell_type": "markdown",
   "metadata": {},
   "source": [
    "CUreviews"
   ]
  },
  {
   "cell_type": "code",
   "execution_count": 21,
   "metadata": {},
   "outputs": [],
   "source": [
    "def scrape_cureviews (courses):\n",
    "  url = 'https://www.cureviews.org/v2/getCourseByInfo/'\n",
    "  courses['Dept + Number'] = courses.Dept + \" \" + courses.Number.map(str)\n",
    "\n",
    "  class_diff = {}\n",
    "  rating = {}\n",
    "  workload = {}\n",
    "\n",
    "  for index, row in courses['Dept + Number'].iteritems():\n",
    "    try:\n",
    "      jsn = {'number':int(row.split(' ')[1]), 'subject':row.split(' ')[0].lower()}\n",
    "      # print(jsn)\n",
    "      result = requests.post(url, json=jsn).json()['result']\n",
    "      class_diff[row] = result['classDifficulty']\n",
    "      rating[row] = result['classRating']\n",
    "      workload[row] = result['classWorkload']\n",
    "      \n",
    "    except:\n",
    "      class_diff[row] = \"\"\n",
    "      rating[row] = \"\"\n",
    "      workload[row] = \"\"\n",
    "  \n",
    "  courses[\"class_diff\"] = courses['Dept + Number'].map(class_diff)\n",
    "  courses[\"rating\"] = courses['Dept + Number'].map(rating)\n",
    "  courses[\"workload\"] = courses['Dept + Number'].map(workload)\n",
    "\n",
    "  return courses"
   ]
  },
  {
   "cell_type": "code",
   "execution_count": 22,
   "metadata": {},
   "outputs": [],
   "source": [
    "courses_FA = scrape_cureviews(pd.read_csv('data/class_roster_FA22.csv'))\n",
    "courses_SP = scrape_cureviews(pd.read_csv('data/class_roster_SP22.csv'))"
   ]
  },
  {
   "cell_type": "code",
   "execution_count": 23,
   "metadata": {},
   "outputs": [],
   "source": [
    "courses_FA.to_csv('data/CUReviews_FA22')\n",
    "courses_SP.to_csv('data/CUReviews_SP22')"
   ]
  },
  {
   "cell_type": "code",
   "execution_count": 24,
   "metadata": {},
   "outputs": [],
   "source": [
    "courses = courses_FA.merge(courses_SP, how='outer')"
   ]
  },
  {
   "cell_type": "code",
   "execution_count": 25,
   "metadata": {},
   "outputs": [
    {
     "data": {
      "text/html": [
       "<div>\n",
       "<style scoped>\n",
       "    .dataframe tbody tr th:only-of-type {\n",
       "        vertical-align: middle;\n",
       "    }\n",
       "\n",
       "    .dataframe tbody tr th {\n",
       "        vertical-align: top;\n",
       "    }\n",
       "\n",
       "    .dataframe thead th {\n",
       "        text-align: right;\n",
       "    }\n",
       "</style>\n",
       "<table border=\"1\" class=\"dataframe\">\n",
       "  <thead>\n",
       "    <tr style=\"text-align: right;\">\n",
       "      <th></th>\n",
       "      <th>Unnamed: 0</th>\n",
       "      <th>Dept</th>\n",
       "      <th>Number</th>\n",
       "      <th>Course_Name</th>\n",
       "      <th>Professor</th>\n",
       "      <th>Start_Time</th>\n",
       "      <th>End_Time</th>\n",
       "      <th>Location</th>\n",
       "      <th>Description</th>\n",
       "      <th>Pre/coreqs</th>\n",
       "      <th>Offered</th>\n",
       "      <th>Dept + Number</th>\n",
       "      <th>class_diff</th>\n",
       "      <th>rating</th>\n",
       "      <th>workload</th>\n",
       "    </tr>\n",
       "  </thead>\n",
       "  <tbody>\n",
       "    <tr>\n",
       "      <th>0</th>\n",
       "      <td>0</td>\n",
       "      <td>AAS</td>\n",
       "      <td>2100</td>\n",
       "      <td>South Asian Diaspora</td>\n",
       "      <td>Viranjini Munasinghe</td>\n",
       "      <td>02:55PM</td>\n",
       "      <td>04:10PM</td>\n",
       "      <td>Malott Hall 230</td>\n",
       "      <td>This interdisciplinary course (with an emphasi...</td>\n",
       "      <td>NaN</td>\n",
       "      <td>Fall.</td>\n",
       "      <td>AAS 2100</td>\n",
       "      <td>None</td>\n",
       "      <td>None</td>\n",
       "      <td>None</td>\n",
       "    </tr>\n",
       "    <tr>\n",
       "      <th>1</th>\n",
       "      <td>1</td>\n",
       "      <td>AAS</td>\n",
       "      <td>2130</td>\n",
       "      <td>Intro To Asian American Hist</td>\n",
       "      <td>Derek Chang</td>\n",
       "      <td>11:25AM</td>\n",
       "      <td>12:40PM</td>\n",
       "      <td>Goldwin Smith Hall G64-Kau Aud</td>\n",
       "      <td>An introductory history of Chinese, Japanese, ...</td>\n",
       "      <td>NaN</td>\n",
       "      <td>Fall.</td>\n",
       "      <td>AAS 2130</td>\n",
       "      <td>1.666667</td>\n",
       "      <td>4</td>\n",
       "      <td>2.333333</td>\n",
       "    </tr>\n",
       "    <tr>\n",
       "      <th>2</th>\n",
       "      <td>2</td>\n",
       "      <td>AAS</td>\n",
       "      <td>3885</td>\n",
       "      <td>Race and War in History</td>\n",
       "      <td>Tejasvi Nagaraja</td>\n",
       "      <td>01:00PM</td>\n",
       "      <td>02:15PM</td>\n",
       "      <td>Ives Hall 219</td>\n",
       "      <td>Across twentieth-century history, race and war...</td>\n",
       "      <td>NaN</td>\n",
       "      <td>Fall.</td>\n",
       "      <td>AAS 3885</td>\n",
       "      <td></td>\n",
       "      <td></td>\n",
       "      <td></td>\n",
       "    </tr>\n",
       "    <tr>\n",
       "      <th>3</th>\n",
       "      <td>3</td>\n",
       "      <td>AAS</td>\n",
       "      <td>4040</td>\n",
       "      <td>Fictions of Dictatorship</td>\n",
       "      <td>Christine Balance</td>\n",
       "      <td>02:40PM</td>\n",
       "      <td>05:10PM</td>\n",
       "      <td>Malott Hall 205</td>\n",
       "      <td>Fictions of dictatorship, as termed by scholar...</td>\n",
       "      <td>NaN</td>\n",
       "      <td>Fall.</td>\n",
       "      <td>AAS 4040</td>\n",
       "      <td>None</td>\n",
       "      <td>None</td>\n",
       "      <td>None</td>\n",
       "    </tr>\n",
       "    <tr>\n",
       "      <th>4</th>\n",
       "      <td>4</td>\n",
       "      <td>AAS</td>\n",
       "      <td>4950</td>\n",
       "      <td>Independent Study</td>\n",
       "      <td>Viranjini Munasinghe</td>\n",
       "      <td>NaN</td>\n",
       "      <td>NaN</td>\n",
       "      <td>NaN</td>\n",
       "      <td>Independent reading course in topics not cover...</td>\n",
       "      <td>NaN</td>\n",
       "      <td>Fall, Spring.</td>\n",
       "      <td>AAS 4950</td>\n",
       "      <td>None</td>\n",
       "      <td>None</td>\n",
       "      <td>None</td>\n",
       "    </tr>\n",
       "  </tbody>\n",
       "</table>\n",
       "</div>"
      ],
      "text/plain": [
       "   Unnamed: 0 Dept  Number                   Course_Name  \\\n",
       "0           0  AAS    2100          South Asian Diaspora   \n",
       "1           1  AAS    2130  Intro To Asian American Hist   \n",
       "2           2  AAS    3885       Race and War in History   \n",
       "3           3  AAS    4040      Fictions of Dictatorship   \n",
       "4           4  AAS    4950             Independent Study   \n",
       "\n",
       "              Professor Start_Time End_Time                        Location  \\\n",
       "0  Viranjini Munasinghe    02:55PM  04:10PM                 Malott Hall 230   \n",
       "1           Derek Chang    11:25AM  12:40PM  Goldwin Smith Hall G64-Kau Aud   \n",
       "2      Tejasvi Nagaraja    01:00PM  02:15PM                   Ives Hall 219   \n",
       "3     Christine Balance    02:40PM  05:10PM                 Malott Hall 205   \n",
       "4  Viranjini Munasinghe        NaN      NaN                             NaN   \n",
       "\n",
       "                                         Description Pre/coreqs  \\\n",
       "0  This interdisciplinary course (with an emphasi...        NaN   \n",
       "1  An introductory history of Chinese, Japanese, ...        NaN   \n",
       "2  Across twentieth-century history, race and war...        NaN   \n",
       "3  Fictions of dictatorship, as termed by scholar...        NaN   \n",
       "4  Independent reading course in topics not cover...        NaN   \n",
       "\n",
       "         Offered Dept + Number class_diff rating  workload  \n",
       "0          Fall.      AAS 2100       None   None      None  \n",
       "1          Fall.      AAS 2130   1.666667      4  2.333333  \n",
       "2          Fall.      AAS 3885                              \n",
       "3          Fall.      AAS 4040       None   None      None  \n",
       "4  Fall, Spring.      AAS 4950       None   None      None  "
      ]
     },
     "execution_count": 25,
     "metadata": {},
     "output_type": "execute_result"
    }
   ],
   "source": [
    "courses.head()"
   ]
  },
  {
   "cell_type": "markdown",
   "metadata": {},
   "source": [
    "Rate My Prof"
   ]
  },
  {
   "cell_type": "code",
   "execution_count": 2,
   "metadata": {},
   "outputs": [],
   "source": [
    "# from https://github.com/tisuela/ratemyprof-api/tree/master/ratemyprof_api\n",
    "from professor import *\n",
    "from ratemyprof_api import *"
   ]
  },
  {
   "cell_type": "code",
   "execution_count": 3,
   "metadata": {},
   "outputs": [],
   "source": [
    "rmp = RateMyProfApi(298).scrape_professors()"
   ]
  },
  {
   "cell_type": "code",
   "execution_count": 6,
   "metadata": {},
   "outputs": [
    {
     "name": "stdout",
     "output_type": "stream",
     "text": [
      "Aditya Manthri\n"
     ]
    }
   ],
   "source": [
    "num_ratings = {}\n",
    "prof_rat = {}\n",
    "prof_diff = {}\n",
    "# count = 0\n",
    "for prof in rmp:\n",
    "    \n",
    "    try:\n",
    "        result = urllib.requests.get(\"https://www.ratemyprofessors.com/ShowRatings.jsp?tid=\" + str(prof))\n",
    "        page = result.content.decode('utf-8')\n",
    "\n",
    "        num_ratings[rmp[prof].name] = rmp[prof].num_of_ratings\n",
    "        prof_rat[rmp[prof].name] = rmp[prof].overall_rating\n",
    "        diff = page.index('avgDifficulty')\n",
    "        prof_diff[rmp[prof].name] = page[page.index(':', diff + 1)+1:page.index(',', diff + 1)]\n",
    "        \n",
    "    except:\n",
    "        print(rmp[prof].name)\n",
    "    # count += 1\n",
    "    # if count > 10:\n",
    "        # assert False"
   ]
  },
  {
   "cell_type": "code",
   "execution_count": 7,
   "metadata": {},
   "outputs": [],
   "source": [
    "profs = []\n",
    "for prof in rmp:\n",
    "    profs.append(rmp[prof].name)\n",
    "prof_info = pd.DataFrame(columns = ['Professor', 'num_ratings', 'prof_rat', 'prof_diff'])\n",
    "prof_info['Professor'] = profs\n",
    "\n",
    "prof_info['num_ratings'] = prof_info['Professor'].map(num_ratings)\n",
    "prof_info['prof_rat'] = prof_info['Professor'].map(prof_rat)\n",
    "prof_info['prof_diff'] = prof_info['Professor'].map(prof_diff)\n",
    "prof_info.to_csv('data/rmp.csv')"
   ]
  },
  {
   "cell_type": "code",
   "execution_count": 26,
   "metadata": {},
   "outputs": [],
   "source": [
    "# prof_info = pd.read_csv('data/rmp.csv')"
   ]
  },
  {
   "cell_type": "markdown",
   "metadata": {},
   "source": [
    "Concatenating medians"
   ]
  },
  {
   "cell_type": "code",
   "execution_count": 27,
   "metadata": {},
   "outputs": [],
   "source": [
    "courses_w_prof = courses.merge(prof_info, on=\"Professor\", how=\"outer\")"
   ]
  },
  {
   "cell_type": "code",
   "execution_count": 28,
   "metadata": {},
   "outputs": [],
   "source": [
    "medians = pd.read_csv('data/CornellMedianGrades.csv')\n",
    "medians = medians[1:]\n",
    "\n",
    "course_medians = courses_w_prof.merge(medians, on=\"Dept + Number\", how=\"outer\")"
   ]
  },
  {
   "cell_type": "code",
   "execution_count": 29,
   "metadata": {},
   "outputs": [],
   "source": [
    "course_medians.to_csv('data/merged_data.csv')"
   ]
  },
  {
   "cell_type": "code",
   "execution_count": null,
   "metadata": {},
   "outputs": [],
   "source": []
  }
 ],
 "metadata": {
  "kernelspec": {
   "display_name": "Python 3.9.13 ('env': venv)",
   "language": "python",
   "name": "python3"
  },
  "language_info": {
   "codemirror_mode": {
    "name": "ipython",
    "version": 3
   },
   "file_extension": ".py",
   "mimetype": "text/x-python",
   "name": "python",
   "nbconvert_exporter": "python",
   "pygments_lexer": "ipython3",
   "version": "3.9.13"
  },
  "orig_nbformat": 4,
  "vscode": {
   "interpreter": {
    "hash": "e2d44e5b173de06ea48055461fbb3130df4a0cdec4b6d57544ee834ff1f5ce7a"
   }
  }
 },
 "nbformat": 4,
 "nbformat_minor": 2
}
